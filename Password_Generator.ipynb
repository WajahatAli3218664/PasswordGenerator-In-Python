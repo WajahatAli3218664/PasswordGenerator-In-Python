{
  "nbformat": 4,
  "nbformat_minor": 0,
  "metadata": {
    "colab": {
      "provenance": [],
      "authorship_tag": "ABX9TyPBcX6cRn14BL6HyBf5p+ZI",
      "include_colab_link": true
    },
    "kernelspec": {
      "name": "python3",
      "display_name": "Python 3"
    },
    "language_info": {
      "name": "python"
    }
  },
  "cells": [
    {
      "cell_type": "markdown",
      "metadata": {
        "id": "view-in-github",
        "colab_type": "text"
      },
      "source": [
        "<a href=\"https://colab.research.google.com/github/WajahatAli3218664/PasswordGenerator-In-Python/blob/main/Password_Generator.ipynb\" target=\"_parent\"><img src=\"https://colab.research.google.com/assets/colab-badge.svg\" alt=\"Open In Colab\"/></a>"
      ]
    },
    {
      "cell_type": "markdown",
      "source": [
        "# **Password Generator In Python**"
      ],
      "metadata": {
        "id": "eiwTlW42zH4R"
      }
    },
    {
      "cell_type": "code",
      "source": [
        "# Project 6: Password Generator In Python\n",
        "# Description: This is a password generator that creates strong and random passwords using uppercase, lowercase, digits, and special characters.\n",
        "# Instructor: Wajahat Ali\n",
        "\n",
        "import random\n",
        "import string\n",
        "\n",
        "def generate_password(length):\n",
        "    characters = string.ascii_letters + string.digits + string.punctuation\n",
        "    password = ''.join(random.choice(characters) for _ in range(length))\n",
        "    return password\n",
        "\n",
        "# User inputs\n",
        "length = int(input(\"Enter the desired length of the password: \"))\n",
        "password = generate_password(length)\n",
        "print(\"Your Desired Generated Password:\", password)\n",
        "print(\"Password Length:\", len(password))\n"
      ],
      "metadata": {
        "colab": {
          "base_uri": "https://localhost:8080/"
        },
        "id": "D-VizwETzPNH",
        "outputId": "33949c4b-d455-40bb-feb7-7b4699d07331"
      },
      "execution_count": 4,
      "outputs": [
        {
          "output_type": "stream",
          "name": "stdout",
          "text": [
            "Enter the desired length of the password: 13\n",
            "Your Desired Generated Password: O<65f]~Vio-aP\n",
            "Password Length: 13\n"
          ]
        }
      ]
    }
  ]
}